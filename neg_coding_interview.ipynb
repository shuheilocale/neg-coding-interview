{
  "nbformat": 4,
  "nbformat_minor": 0,
  "metadata": {
    "colab": {
      "name": "neg_coding_interview.ipynb",
      "provenance": []
    },
    "kernelspec": {
      "name": "python3",
      "display_name": "Python 3"
    }
  },
  "cells": [
    {
      "cell_type": "code",
      "metadata": {
        "id": "PQlyTyd39C1C",
        "colab": {
          "base_uri": "https://localhost:8080/"
        },
        "outputId": "760ada5e-fa90-41ab-bb59-8a9c324b876c"
      },
      "source": [
        "%time\n",
        "\n",
        "def reverse_list_v1(array):\n",
        "  return array[::-1]\n",
        "\n",
        "print(reverse_list_v1([1,2,3]))\n",
        "print(reverse_list_v1([110,2,3,-3,4,5]))"
      ],
      "execution_count": 5,
      "outputs": [
        {
          "output_type": "stream",
          "text": [
            "CPU times: user 2 µs, sys: 0 ns, total: 2 µs\n",
            "Wall time: 5.25 µs\n",
            "[3, 2, 1]\n",
            "[5, 4, -3, 3, 2, 110]\n"
          ],
          "name": "stdout"
        }
      ]
    },
    {
      "cell_type": "code",
      "metadata": {
        "id": "pJzs7g4iJK09",
        "colab": {
          "base_uri": "https://localhost:8080/"
        },
        "outputId": "9398fc4a-32a6-4299-c906-ce319e8acfd0"
      },
      "source": [
        "%time\n",
        "\n",
        "def reverse_list_v2(array):\n",
        "  len_array = len(array)\n",
        "  ret = []\n",
        "\n",
        "  for i in range(len_array):\n",
        "    ret.append(len_array-1-i)\n",
        "  return ret\n",
        "\n",
        "print(reverse_list_v1([1,2,3]))\n",
        "print(reverse_list_v1([110,2,3,-3,4,5]))"
      ],
      "execution_count": 6,
      "outputs": [
        {
          "output_type": "stream",
          "text": [
            "CPU times: user 3 µs, sys: 1 µs, total: 4 µs\n",
            "Wall time: 6.68 µs\n",
            "[3, 2, 1]\n",
            "[5, 4, -3, 3, 2, 110]\n"
          ],
          "name": "stdout"
        }
      ]
    },
    {
      "cell_type": "code",
      "metadata": {
        "colab": {
          "base_uri": "https://localhost:8080/"
        },
        "id": "z22iUq_nW5Xm",
        "outputId": "ab00a9b1-4caf-42f4-bc1f-7aa6c5ce5d1b"
      },
      "source": [
        "%time\n",
        "\n",
        "def reverse_list_v3(array):\n",
        "  len_array = len(array)\n",
        "\n",
        "  for i in range(int(len(array)/2)):\n",
        "    array[i], array[len_array-1-i] = array[len_array-1-i], array[i]\n",
        "  return array \n",
        "\n",
        "print(reverse_list_v1([1,2,3]))\n",
        "print(reverse_list_v1([110,2,3,-3,4,5]))"
      ],
      "execution_count": 7,
      "outputs": [
        {
          "output_type": "stream",
          "text": [
            "CPU times: user 3 µs, sys: 0 ns, total: 3 µs\n",
            "Wall time: 4.77 µs\n",
            "[3, 2, 1]\n",
            "[5, 4, -3, 3, 2, 110]\n"
          ],
          "name": "stdout"
        }
      ]
    },
    {
      "cell_type": "code",
      "metadata": {
        "id": "DqN9OkaPXXhC"
      },
      "source": [
        ""
      ],
      "execution_count": null,
      "outputs": []
    }
  ]
}